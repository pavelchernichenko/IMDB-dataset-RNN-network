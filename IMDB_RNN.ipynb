{
  "nbformat": 4,
  "nbformat_minor": 0,
  "metadata": {
    "colab": {
      "name": "Assignment7.ipynb",
      "version": "0.3.2",
      "provenance": [],
      "collapsed_sections": []
    },
    "kernelspec": {
      "name": "python3",
      "display_name": "Python 3"
    }
  },
  "cells": [
    {
      "cell_type": "code",
      "metadata": {
        "id": "MNFUGg3Q8H6I",
        "colab_type": "code",
        "colab": {
          "base_uri": "https://localhost:8080/",
          "height": 34
        },
        "outputId": "e73d4875-72d4-4d77-b773-565480b0eb50"
      },
      "source": [
        "!pip install numpy==1.16.1\n",
        "import numpy as np\n",
        "\n",
        "timesteps = 100 # number of timestamps in the input sequence\n",
        "input_features = 32 # dimensionality of the input feature space\n",
        "output_features = 64 # dimensionality of the output feature space \n",
        "\n",
        "inputs = np.random.random((timesteps, input_features))\n",
        "\n",
        "state_t = np.zeros((output_features,)) # initial state as an all zero vector \n",
        "\n",
        "W = np.random.random((output_features, input_features))\n",
        "U = np.random.random((output_features, output_features))\n",
        "b = np.random.random((output_features,))\n",
        "\n",
        "successive_outputs = []\n",
        "for input_t in inputs:  #input_t is a vector of shape(input_features) \n",
        "  output_t = np.tanh(np.dot(W, input_t) + np.dot(U, state_t) + b)\n",
        "  successive_outputs.append(output_t)\n",
        "  state_t = output_t\n",
        "\n",
        "final_output_sequence = np.concatenate(successive_outputs, axis=0)"
      ],
      "execution_count": 1,
      "outputs": [
        {
          "output_type": "stream",
          "text": [
            "Requirement already satisfied: numpy==1.16.1 in /usr/local/lib/python3.6/dist-packages (1.16.1)\n"
          ],
          "name": "stdout"
        }
      ]
    },
    {
      "cell_type": "code",
      "metadata": {
        "id": "se75EvrN9plo",
        "colab_type": "code",
        "colab": {
          "base_uri": "https://localhost:8080/",
          "height": 67
        },
        "outputId": "685dc796-19e7-4852-fbab-bc170c3418ec"
      },
      "source": [
        "from keras.datasets import imdb\n",
        "from keras.preprocessing import sequence\n",
        "\n",
        "max_features = 10000\n",
        "maxlen = 500\n",
        "batch_size = 32\n",
        "\n",
        "(x_train, y_train), (x_test, y_test) = imdb.load_data(num_words=max_features)\n",
        "x_train = sequence.pad_sequences(x_train, maxlen=maxlen)\n",
        "x_test = sequence.pad_sequences(x_test, maxlen=maxlen)"
      ],
      "execution_count": 2,
      "outputs": [
        {
          "output_type": "stream",
          "text": [
            "Using TensorFlow backend.\n"
          ],
          "name": "stderr"
        },
        {
          "output_type": "stream",
          "text": [
            "Downloading data from https://s3.amazonaws.com/text-datasets/imdb.npz\n",
            "17465344/17464789 [==============================] - 0s 0us/step\n"
          ],
          "name": "stdout"
        }
      ]
    },
    {
      "cell_type": "code",
      "metadata": {
        "id": "mxXj4Nbk9vCP",
        "colab_type": "code",
        "colab": {
          "base_uri": "https://localhost:8080/",
          "height": 689
        },
        "outputId": "13e879f3-754b-4d79-f5b2-bbe6d680ff6d"
      },
      "source": [
        "from keras.layers import Dense, SimpleRNN, Embedding\n",
        "from keras.models import Sequential\n",
        "# 4 simpleRNN layers with fifth layer as dense\n",
        "model = Sequential()\n",
        "model.add(Embedding(max_features, 32))\n",
        "model.add(SimpleRNN(32, return_sequences=True))\n",
        "model.add(SimpleRNN(32, return_sequences=True))\n",
        "model.add(SimpleRNN(32, return_sequences=True))\n",
        "model.add(SimpleRNN(32))\n",
        "model.add(Dense(1, activation='sigmoid'))\n",
        "\n",
        "model.summary()\n",
        "\n",
        "model.compile(optimizer='rmsprop', loss='binary_crossentropy', metrics=['acc'])\n",
        "history = model.fit(x_train, y_train,\n",
        "                   epochs=10,\n",
        "                   batch_size=128,\n",
        "                   validation_split=0.2)"
      ],
      "execution_count": 4,
      "outputs": [
        {
          "output_type": "stream",
          "text": [
            "_________________________________________________________________\n",
            "Layer (type)                 Output Shape              Param #   \n",
            "=================================================================\n",
            "embedding_2 (Embedding)      (None, None, 32)          320000    \n",
            "_________________________________________________________________\n",
            "simple_rnn_6 (SimpleRNN)     (None, None, 32)          2080      \n",
            "_________________________________________________________________\n",
            "simple_rnn_7 (SimpleRNN)     (None, None, 32)          2080      \n",
            "_________________________________________________________________\n",
            "simple_rnn_8 (SimpleRNN)     (None, None, 32)          2080      \n",
            "_________________________________________________________________\n",
            "simple_rnn_9 (SimpleRNN)     (None, 32)                2080      \n",
            "_________________________________________________________________\n",
            "dense_2 (Dense)              (None, 1)                 33        \n",
            "=================================================================\n",
            "Total params: 328,353\n",
            "Trainable params: 328,353\n",
            "Non-trainable params: 0\n",
            "_________________________________________________________________\n",
            "Train on 20000 samples, validate on 5000 samples\n",
            "Epoch 1/10\n",
            "20000/20000 [==============================] - 62s 3ms/step - loss: 0.5911 - acc: 0.6640 - val_loss: 0.4761 - val_acc: 0.7756\n",
            "Epoch 2/10\n",
            "20000/20000 [==============================] - 60s 3ms/step - loss: 0.3826 - acc: 0.8355 - val_loss: 0.4154 - val_acc: 0.8060\n",
            "Epoch 3/10\n",
            "20000/20000 [==============================] - 61s 3ms/step - loss: 0.3049 - acc: 0.8785 - val_loss: 0.3307 - val_acc: 0.8646\n",
            "Epoch 4/10\n",
            "20000/20000 [==============================] - 61s 3ms/step - loss: 0.2551 - acc: 0.9023 - val_loss: 0.3688 - val_acc: 0.8396\n",
            "Epoch 5/10\n",
            "20000/20000 [==============================] - 61s 3ms/step - loss: 0.2528 - acc: 0.9027 - val_loss: 0.3765 - val_acc: 0.8638\n",
            "Epoch 6/10\n",
            "20000/20000 [==============================] - 61s 3ms/step - loss: 0.1938 - acc: 0.9302 - val_loss: 0.3923 - val_acc: 0.8482\n",
            "Epoch 7/10\n",
            "20000/20000 [==============================] - 61s 3ms/step - loss: 0.1671 - acc: 0.9383 - val_loss: 0.4584 - val_acc: 0.8374\n",
            "Epoch 8/10\n",
            "20000/20000 [==============================] - 61s 3ms/step - loss: 0.1356 - acc: 0.9507 - val_loss: 0.5609 - val_acc: 0.7846\n",
            "Epoch 9/10\n",
            "20000/20000 [==============================] - 61s 3ms/step - loss: 0.0954 - acc: 0.9674 - val_loss: 0.6642 - val_acc: 0.7940\n",
            "Epoch 10/10\n",
            "20000/20000 [==============================] - 61s 3ms/step - loss: 0.0722 - acc: 0.9755 - val_loss: 0.6886 - val_acc: 0.8228\n"
          ],
          "name": "stdout"
        }
      ]
    },
    {
      "cell_type": "code",
      "metadata": {
        "id": "VkoQXTlw-wZM",
        "colab_type": "code",
        "colab": {
          "base_uri": "https://localhost:8080/",
          "height": 545
        },
        "outputId": "e325bc80-36be-4a72-9366-adaa358a0e69"
      },
      "source": [
        "import matplotlib.pyplot as plt\n",
        "\n",
        "acc = history.history['acc']\n",
        "val_acc = history.history['val_acc']\n",
        "loss = history.history['loss']\n",
        "val_loss = history.history['val_loss']\n",
        "\n",
        "epochs = range(1, len(acc) + 1)\n",
        "\n",
        "plt.plot(epochs, acc, 'bo', label='Training Accuracy')\n",
        "plt.plot(epochs, val_acc, 'b', label='Validation Accuracy')\n",
        "plt.title('Training & Validation Accuracy')\n",
        "plt.legend()\n",
        "\n",
        "plt.figure()\n",
        "\n",
        "plt.plot(epochs, loss, 'bo', label='Training Loss')\n",
        "plt.plot(epochs, val_loss, 'b', label='Validation Loss')\n",
        "plt.title('Training & Validation Loss')\n",
        "plt.legend()\n",
        "\n",
        "plt.show()"
      ],
      "execution_count": 5,
      "outputs": [
        {
          "output_type": "display_data",
          "data": {
            "image/png": "[encoded data removed]",
            "text/plain": [
              "<Figure size 432x288 with 1 Axes>"
            ]
          },
          "metadata": {
            "tags": []
          }
        },
        {
          "output_type": "display_data",
          "data": {
            "image/png": "[encoded data removed]",
            "text/plain": [
              "<Figure size 432x288 with 1 Axes>"
            ]
          },
          "metadata": {
            "tags": []
          }
        }
      ]
    },
    {
      "cell_type": "code",
      "metadata": {
        "id": "EPTx-ty4-15h",
        "colab_type": "code",
        "colab": {
          "base_uri": "https://localhost:8080/",
          "height": 235
        },
        "outputId": "28441235-4d59-46a7-c7e6-f978880de7b1"
      },
      "source": [
        "# LSTM Model - here we specify output dimensionality of LSTM layer\n",
        "# leave all other arguments at keras default \n",
        "from keras.layers import LSTM\n",
        "\n",
        "model = Sequential()\n",
        "model.add(Embedding(max_features, 32))\n",
        "model.add(LSTM(32))\n",
        "model.add(Dense(1, activation='sigmoid'))\n",
        "\n",
        "model.compile(optimizer='rmsprop',\n",
        "             loss='binary_crossentropy',\n",
        "             metrics=['acc'])\n",
        "\n",
        "history = model.fit(x_train, y_train,\n",
        "                   epochs=10,\n",
        "                   batch_size=128,\n",
        "                   validation_split=0.2)"
      ],
      "execution_count": 0,
      "outputs": [
        {
          "output_type": "stream",
          "text": [
            "Train on 20000 samples, validate on 5000 samples\n",
            "Epoch 1/10\n",
            "20000/20000 [==============================] - 77s 4ms/step - loss: 0.5172 - acc: 0.7588 - val_loss: 0.3400 - val_acc: 0.8608\n",
            "Epoch 2/10\n",
            "20000/20000 [==============================] - 76s 4ms/step - loss: 0.2951 - acc: 0.8858 - val_loss: 0.3035 - val_acc: 0.8828\n",
            "Epoch 3/10\n",
            "20000/20000 [==============================] - 76s 4ms/step - loss: 0.2368 - acc: 0.9100 - val_loss: 0.3005 - val_acc: 0.8788\n",
            "Epoch 4/10\n",
            "20000/20000 [==============================] - 76s 4ms/step - loss: 0.2028 - acc: 0.9259 - val_loss: 0.5363 - val_acc: 0.8050\n",
            "Epoch 5/10\n",
            "20000/20000 [==============================] - 76s 4ms/step - loss: 0.1799 - acc: 0.9348 - val_loss: 0.3844 - val_acc: 0.8740\n",
            "Epoch 6/10\n",
            "16128/20000 [=======================>......] - ETA: 13s - loss: 0.1559 - acc: 0.9462"
          ],
          "name": "stdout"
        }
      ]
    },
    {
      "cell_type": "code",
      "metadata": {
        "id": "GdqpnbPJ-146",
        "colab_type": "code",
        "colab": {}
      },
      "source": [
        "#plot same way as simpleRNN\n",
        "\n",
        "acc = history.history['acc']\n",
        "val_acc = history.history['val_acc']\n",
        "loss = history.history['loss']\n",
        "val_loss = history.history['val_loss']\n",
        "\n",
        "epochs = range(1, len(acc) + 1)\n",
        "\n",
        "plt.plot(epochs, acc, 'bo', label='Training Accuracy')\n",
        "plt.plot(epochs, val_acc, 'b', label='Validation Accuracy')\n",
        "plt.title('Training & Validation Accuracy')\n",
        "plt.legend()\n",
        "\n",
        "plt.figure()\n",
        "\n",
        "plt.plot(epochs, loss, 'bo', label='Training Loss')\n",
        "plt.plot(epochs, val_loss, 'b', label='Validation Loss')\n",
        "plt.title('Training & Validation Loss')\n",
        "plt.legend()\n",
        "\n",
        "plt.show()"
      ],
      "execution_count": 0,
      "outputs": []
    },
    {
      "cell_type": "code",
      "metadata": {
        "id": "mr_VVTgi-14O",
        "colab_type": "code",
        "colab": {}
      },
      "source": [
        ""
      ],
      "execution_count": 0,
      "outputs": []
    }
  ]
}